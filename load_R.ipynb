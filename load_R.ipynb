{
 "cells": [
  {
   "cell_type": "markdown",
   "metadata": {},
   "source": [
    "### 1.檢查 R的路徑"
   ]
  },
  {
   "cell_type": "code",
   "execution_count": null,
   "metadata": {},
   "outputs": [],
   "source": [
    "R.home()"
   ]
  },
  {
   "cell_type": "markdown",
   "metadata": {},
   "source": [
    "### 2.分別安裝 3 個會用到的packages,其中survcomp為第三方來源，需要另外抓，參考來源 [Survcomp](https://www.bioconductor.org/packages/release/bioc/html/survcomp.html)\n"
   ]
  },
  {
   "cell_type": "code",
   "execution_count": 1,
   "metadata": {},
   "outputs": [
    {
     "name": "stderr",
     "output_type": "stream",
     "text": [
      "Updating HTML index of packages in '.Library'\n",
      "Making 'packages.html' ... done\n"
     ]
    }
   ],
   "source": [
    "install.packages(\"randomForestSRC\")"
   ]
  },
  {
   "cell_type": "code",
   "execution_count": 2,
   "metadata": {},
   "outputs": [
    {
     "name": "stderr",
     "output_type": "stream",
     "text": [
      "Updating HTML index of packages in '.Library'\n",
      "Making 'packages.html' ... done\n"
     ]
    }
   ],
   "source": [
    "install.packages(\"survival\")"
   ]
  },
  {
   "cell_type": "code",
   "execution_count": 3,
   "metadata": {},
   "outputs": [
    {
     "name": "stderr",
     "output_type": "stream",
     "text": [
      "Bioconductor version 3.6 (BiocInstaller 1.28.0), ?biocLite for help\n",
      "A new version of Bioconductor is available after installing the most recent\n",
      "  version of R; see http://bioconductor.org/install\n",
      "BioC_mirror: https://bioconductor.org\n",
      "Using Bioconductor 3.6 (BiocInstaller 1.28.0), R 3.4.3 (2017-11-30).\n",
      "Installing package(s) ‘survcomp’\n",
      "Updating HTML index of packages in '.Library'\n",
      "Making 'packages.html' ... done\n",
      "Old packages: 'BH', 'bindr', 'bindrcpp', 'bit', 'blob', 'broom', 'callr',\n",
      "  'caret', 'clipr', 'cluster', 'curl', 'CVST', 'data.table', 'DBI', 'dbplyr',\n",
      "  'ddalpha', 'digest', 'dplyr', 'DRR', 'evaluate', 'forcats', 'foreign',\n",
      "  'ggplot2', 'glmnet', 'glue', 'haven', 'hexbin', 'highr', 'hms',\n",
      "  'htmlwidgets', 'httpuv', 'IRdisplay', 'iterators', 'kernlab', 'knitr',\n",
      "  'lava', 'lubridate', 'maps', 'MASS', 'Matrix', 'mgcv', 'ModelMetrics',\n",
      "  'modelr', 'munsell', 'nlme', 'openssl', 'pbdZMQ', 'pillar', 'plogr',\n",
      "  'prodlim', 'psych', 'purrr', 'quantmod', 'randomForest', 'Rcpp', 'RcppRoll',\n",
      "  'readxl', 'recipes', 'repr', 'reprex', 'rlang', 'rmarkdown', 'robustbase',\n",
      "  'rpart', 'rprojroot', 'RSQLite', 'scales', 'selectr', 'sfsmisc', 'shiny',\n",
      "  'sourcetools', 'stringi', 'stringr', 'tibble', 'tidyr', 'tidyselect',\n",
      "  'timeDate', 'TTR', 'utf8', 'viridisLite', 'withr', 'xml2', 'xts', 'yaml',\n",
      "  'zoo'\n"
     ]
    }
   ],
   "source": [
    "source(\"https://bioconductor.org/biocLite.R\")\n",
    "biocLite(\"survcomp\")"
   ]
  },
  {
   "cell_type": "markdown",
   "metadata": {},
   "source": [
    "### 3. 載入package檢查是否有錯"
   ]
  },
  {
   "cell_type": "code",
   "execution_count": 4,
   "metadata": {},
   "outputs": [
    {
     "name": "stderr",
     "output_type": "stream",
     "text": [
      "Loading required package: randomForestSRC\n",
      "\n",
      " randomForestSRC 2.6.1 \n",
      " \n",
      " Type rfsrc.news() to see new features, changes, and bug fixes. \n",
      " \n",
      "\n"
     ]
    }
   ],
   "source": [
    "require(randomForestSRC)"
   ]
  },
  {
   "cell_type": "code",
   "execution_count": 5,
   "metadata": {},
   "outputs": [
    {
     "name": "stderr",
     "output_type": "stream",
     "text": [
      "Loading required package: survival\n"
     ]
    }
   ],
   "source": [
    "require(survival)"
   ]
  },
  {
   "cell_type": "code",
   "execution_count": 6,
   "metadata": {},
   "outputs": [
    {
     "name": "stderr",
     "output_type": "stream",
     "text": [
      "Loading required package: survcomp\n",
      "Loading required package: prodlim\n"
     ]
    }
   ],
   "source": [
    "require(survcomp)"
   ]
  },
  {
   "cell_type": "code",
   "execution_count": null,
   "metadata": {},
   "outputs": [],
   "source": []
  }
 ],
 "metadata": {
  "kernelspec": {
   "display_name": "R",
   "language": "R",
   "name": "ir"
  },
  "language_info": {
   "codemirror_mode": "r",
   "file_extension": ".r",
   "mimetype": "text/x-r-source",
   "name": "R",
   "pygments_lexer": "r",
   "version": "3.4.3"
  }
 },
 "nbformat": 4,
 "nbformat_minor": 2
}
